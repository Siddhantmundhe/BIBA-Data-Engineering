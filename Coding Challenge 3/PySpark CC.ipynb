{
 "cells": [
  {
   "cell_type": "code",
   "execution_count": 0,
   "metadata": {
    "application/vnd.databricks.v1+cell": {
     "cellMetadata": {
      "byteLimit": 2048000,
      "rowLimit": 10000
     },
     "inputWidgets": {},
     "nuid": "89f07da4-94bb-4a92-af55-306bc437c96a",
     "showTitle": false,
     "title": ""
    }
   },
   "outputs": [],
   "source": [
    "from pyspark.sql import SparkSession\n",
    "\n",
    "spark = SparkSession.builder.appName(\"CC3\").getOrCreate()\n"
   ]
  },
  {
   "cell_type": "code",
   "execution_count": 0,
   "metadata": {
    "application/vnd.databricks.v1+cell": {
     "cellMetadata": {
      "byteLimit": 2048000,
      "rowLimit": 10000
     },
     "inputWidgets": {},
     "nuid": "02d0ed7c-c98a-428e-b057-6e2eda581518",
     "showTitle": false,
     "title": ""
    }
   },
   "outputs": [],
   "source": [
    "data = [\n",
    "    (1, \"Ravi\", \"Math\", 85, \"Mumbai\"),\n",
    "    (2, \"Priya\", \"Physics\", 90, \"Delhi\"),\n",
    "    (3, \"Suresh\", \"Chemistry\", 78, \"Bangalore\"),\n",
    "    (4, \"Anita\", \"Math\", 92, \"Kolkata\"),\n",
    "    (5, \"Raj\", \"Physics\", 88, \"Chennai\")\n",
    "]\n",
    "columns = [\"id\", \"name\", \"subject\", \"score\"]\n",
    "df = spark.createDataFrame(data, columns)"
   ]
  },
  {
   "cell_type": "code",
   "execution_count": 0,
   "metadata": {
    "application/vnd.databricks.v1+cell": {
     "cellMetadata": {
      "byteLimit": 2048000,
      "rowLimit": 10000
     },
     "inputWidgets": {},
     "nuid": "3b95dd8a-da59-4bfd-a3cb-294c6a3b9c1d",
     "showTitle": false,
     "title": ""
    }
   },
   "outputs": [
    {
     "output_type": "stream",
     "name": "stdout",
     "output_type": "stream",
     "text": [
      "Original DataFrame:\n+---+------+---------+-----+---------+\n| id|  name|  subject|score|       _5|\n+---+------+---------+-----+---------+\n|  1|  Ravi|     Math|   85|   Mumbai|\n|  2| Priya|  Physics|   90|    Delhi|\n|  3|Suresh|Chemistry|   78|Bangalore|\n|  4| Anita|     Math|   92|  Kolkata|\n|  5|   Raj|  Physics|   88|  Chennai|\n+---+------+---------+-----+---------+\n\n"
     ]
    }
   ],
   "source": [
    "print(\"Original DataFrame:\")\n",
    "df.show()"
   ]
  },
  {
   "cell_type": "code",
   "execution_count": 0,
   "metadata": {
    "application/vnd.databricks.v1+cell": {
     "cellMetadata": {
      "byteLimit": 2048000,
      "rowLimit": 10000
     },
     "inputWidgets": {},
     "nuid": "0661a243-126f-4096-8d4c-d213dddb2e69",
     "showTitle": false,
     "title": ""
    }
   },
   "outputs": [],
   "source": [
    "from pyspark.sql.functions import col, expr"
   ]
  },
  {
   "cell_type": "code",
   "execution_count": 0,
   "metadata": {
    "application/vnd.databricks.v1+cell": {
     "cellMetadata": {
      "byteLimit": 2048000,
      "rowLimit": 10000
     },
     "inputWidgets": {},
     "nuid": "1196b8cc-cbf3-400a-b995-cf73f5f8abc1",
     "showTitle": false,
     "title": ""
    }
   },
   "outputs": [
    {
     "output_type": "stream",
     "name": "stdout",
     "output_type": "stream",
     "text": [
      "\nManipulated DataFrame:\n+---+------+---------+-----+---------+--------------+\n| id|  name|  subject|score|       _5|adjusted_score|\n+---+------+---------+-----+---------+--------------+\n|  1|  Ravi|     Math|   85|   Mumbai|            90|\n|  2| Priya|  Physics|   90|    Delhi|            95|\n|  3|Suresh|Chemistry|   78|Bangalore|            83|\n|  4| Anita|     Math|   92|  Kolkata|            97|\n|  5|   Raj|  Physics|   88|  Chennai|            93|\n+---+------+---------+-----+---------+--------------+\n\n"
     ]
    }
   ],
   "source": [
    "# Manipulating data in a DataFrame\n",
    "df = df.withColumn(\"adjusted_score\", col(\"score\") + 5)\n",
    "print(\"\\nManipulated DataFrame:\")\n",
    "df.show()\n",
    "\n",
    "\n",
    "\n",
    "\n",
    "\n"
   ]
  },
  {
   "cell_type": "code",
   "execution_count": 0,
   "metadata": {
    "application/vnd.databricks.v1+cell": {
     "cellMetadata": {
      "byteLimit": 2048000,
      "rowLimit": 10000
     },
     "inputWidgets": {},
     "nuid": "a8d5edc5-d4d7-470d-9fb3-466a724b7e3d",
     "showTitle": false,
     "title": ""
    }
   },
   "outputs": [
    {
     "output_type": "stream",
     "name": "stdout",
     "output_type": "stream",
     "text": [
      "+---+------+---------+---------+--------------+\n| id|  name|  subject|       _5|adjusted_score|\n+---+------+---------+---------+--------------+\n|  1|  Ravi|     Math|   Mumbai|            90|\n|  2| Priya|  Physics|    Delhi|            95|\n|  3|Suresh|Chemistry|Bangalore|            83|\n|  4| Anita|     Math|  Kolkata|            97|\n|  5|   Raj|  Physics|  Chennai|            93|\n+---+------+---------+---------+--------------+\n\n"
     ]
    }
   ],
   "source": [
    "# Dropping columns\n",
    "df = df.drop(\"score\")\n",
    "df.show()"
   ]
  },
  {
   "cell_type": "code",
   "execution_count": 0,
   "metadata": {
    "application/vnd.databricks.v1+cell": {
     "cellMetadata": {
      "byteLimit": 2048000,
      "rowLimit": 10000
     },
     "inputWidgets": {},
     "nuid": "5cfd512c-a9e3-4906-bd05-e9b8b1b7e6f7",
     "showTitle": false,
     "title": ""
    }
   },
   "outputs": [
    {
     "output_type": "stream",
     "name": "stdout",
     "output_type": "stream",
     "text": [
      "+---+------+---------+---------+--------------+\n| id|  name|  subject|       _5|adjusted_score|\n+---+------+---------+---------+--------------+\n|  4| Anita|     Math|  Kolkata|            97|\n|  2| Priya|  Physics|    Delhi|            95|\n|  5|   Raj|  Physics|  Chennai|            93|\n|  1|  Ravi|     Math|   Mumbai|            90|\n|  3|Suresh|Chemistry|Bangalore|            83|\n+---+------+---------+---------+--------------+\n\n"
     ]
    }
   ],
   "source": [
    "# Sorting DataFrame by a column\n",
    "df = df.orderBy(\"adjusted_score\", ascending=False)\n",
    "df.show()"
   ]
  },
  {
   "cell_type": "code",
   "execution_count": 0,
   "metadata": {
    "application/vnd.databricks.v1+cell": {
     "cellMetadata": {
      "byteLimit": 2048000,
      "rowLimit": 10000
     },
     "inputWidgets": {},
     "nuid": "af0240db-d146-4b7b-88bd-52d2bb5b7fe2",
     "showTitle": false,
     "title": ""
    }
   },
   "outputs": [
    {
     "output_type": "stream",
     "name": "stdout",
     "output_type": "stream",
     "text": [
      "\nAggregated DataFrame:\n+---------+-------------------+\n|  subject|avg(adjusted_score)|\n+---------+-------------------+\n|     Math|               93.5|\n|  Physics|               94.0|\n|Chemistry|               83.0|\n+---------+-------------------+\n\n"
     ]
    }
   ],
   "source": [
    "# Aggregations\n",
    "agg_df = df.groupBy(\"subject\").agg({\"adjusted_score\": \"avg\"})\n",
    "print(\"\\nAggregated DataFrame:\")\n",
    "agg_df.show()"
   ]
  },
  {
   "cell_type": "code",
   "execution_count": 0,
   "metadata": {
    "application/vnd.databricks.v1+cell": {
     "cellMetadata": {
      "byteLimit": 2048000,
      "rowLimit": 10000
     },
     "inputWidgets": {},
     "nuid": "7fce7db2-fccc-40b7-9700-1bc719bfd6ba",
     "showTitle": false,
     "title": ""
    }
   },
   "outputs": [
    {
     "output_type": "stream",
     "name": "stdout",
     "output_type": "stream",
     "text": [
      "\nGrouped DataFrame:\n+---------+-------------------+\n|  subject|avg(adjusted_score)|\n+---------+-------------------+\n|     Math|               93.5|\n|  Physics|               94.0|\n|Chemistry|               83.0|\n+---------+-------------------+\n\n"
     ]
    }
   ],
   "source": [
    "# GroupBy operation\n",
    "grouped_df = df.groupBy(\"subject\").agg({\"adjusted_score\": \"avg\"})\n",
    "print(\"\\nGrouped DataFrame:\")\n",
    "grouped_df.show()"
   ]
  },
  {
   "cell_type": "code",
   "execution_count": 0,
   "metadata": {
    "application/vnd.databricks.v1+cell": {
     "cellMetadata": {
      "byteLimit": 2048000,
      "rowLimit": 10000
     },
     "inputWidgets": {},
     "nuid": "637c3f2e-1213-4794-b5f8-e02a7221203d",
     "showTitle": false,
     "title": ""
    }
   },
   "outputs": [
    {
     "output_type": "stream",
     "name": "stdout",
     "output_type": "stream",
     "text": [
      "\nInner Join Result:\n+---------+----------+------------+---------+-----+-----------+\n|course_id|student_id|student_name|     city|score|course_name|\n+---------+----------+------------+---------+-----+-----------+\n|        1|        10|       Sonia|  Lucknow|   89|       Math|\n|        1|         7|       Vikas|     Pune|   75|       Math|\n|        1|         4|       Anita|  Kolkata|   88|       Math|\n|        1|         1|        Ravi|   Mumbai|   90|       Math|\n|        2|         8|       Pooja|Ahmedabad|   80|    Physics|\n|        2|         5|         Raj|  Chennai|   78|    Physics|\n|        2|         2|       Priya|    Delhi|   85|    Physics|\n|        3|         9|       Kumar|   Jaipur|   87|  Chemistry|\n|        3|         6|       Divya|Hyderabad|   95|  Chemistry|\n|        3|         3|      Suresh|Bangalore|   92|  Chemistry|\n+---------+----------+------------+---------+-----+-----------+\n\n"
     ]
    }
   ],
   "source": [
    "#Inner Join\n",
    "student_data = [\n",
    "    (1, \"Ravi\", \"Mumbai\"),\n",
    "    (2, \"Priya\", \"Delhi\"),\n",
    "    (3, \"Suresh\", \"Bangalore\"),\n",
    "    (4, \"Anita\", \"Kolkata\"),\n",
    "    (5, \"Raj\", \"Chennai\"),\n",
    "    (6, \"Divya\", \"Hyderabad\"),\n",
    "    (7, \"Vikas\", \"Pune\"),\n",
    "    (8, \"Pooja\", \"Ahmedabad\"),\n",
    "    (9, \"Kumar\", \"Jaipur\"),\n",
    "    (10, \"Sonia\", \"Lucknow\")\n",
    "]\n",
    "\n",
    "course_data = [\n",
    "    (1, \"Math\"),\n",
    "    (2, \"Physics\"),\n",
    "    (3, \"Chemistry\"),\n",
    "    (4, \"History\"),\n",
    "    (5, \"Geography\"),\n",
    "    (6, \"Computer Science\")\n",
    "]\n",
    "\n",
    "scores_data = [\n",
    "    (1, 1, 90),\n",
    "    (2, 2, 85),\n",
    "    (3, 3, 92),\n",
    "    (4, 1, 88),\n",
    "    (5, 2, 78),\n",
    "    (6, 3, 95),\n",
    "    (7, 1, 75),\n",
    "    (8, 2, 80),\n",
    "    (9, 3, 87),\n",
    "    (10, 1, 89)\n",
    "]\n",
    "\n",
    "# Create DataFrames for Students, Courses, and Exam Scores\n",
    "students_df = spark.createDataFrame(student_data, [\"student_id\", \"student_name\", \"city\"])\n",
    "courses_df = spark.createDataFrame(course_data, [\"course_id\", \"course_name\"])\n",
    "scores_df = spark.createDataFrame(scores_data, [\"student_id\", \"course_id\", \"score\"])\n",
    "\n",
    "inner_joined_df = students_df.join(scores_df, \"student_id\", \"inner\").join(courses_df, \"course_id\", \"inner\")\n",
    "print(\"\\nInner Join Result:\")\n",
    "inner_joined_df.show()"
   ]
  },
  {
   "cell_type": "code",
   "execution_count": 0,
   "metadata": {
    "application/vnd.databricks.v1+cell": {
     "cellMetadata": {
      "byteLimit": 2048000,
      "rowLimit": 10000
     },
     "inputWidgets": {},
     "nuid": "b10a6e71-b6c2-4451-8711-7c94cbd7f61f",
     "showTitle": false,
     "title": ""
    }
   },
   "outputs": [
    {
     "output_type": "stream",
     "name": "stdout",
     "output_type": "stream",
     "text": [
      "\nLeft Outer Join Result:\n+---------+----------+------------+---------+-----+-----------+\n|course_id|student_id|student_name|     city|score|course_name|\n+---------+----------+------------+---------+-----+-----------+\n|        1|         1|        Ravi|   Mumbai|   90|       Math|\n|        2|         2|       Priya|    Delhi|   85|    Physics|\n|        3|         3|      Suresh|Bangalore|   92|  Chemistry|\n|        2|         5|         Raj|  Chennai|   78|    Physics|\n|        1|         4|       Anita|  Kolkata|   88|       Math|\n|        3|         6|       Divya|Hyderabad|   95|  Chemistry|\n|        1|         7|       Vikas|     Pune|   75|       Math|\n|        2|         8|       Pooja|Ahmedabad|   80|    Physics|\n|        3|         9|       Kumar|   Jaipur|   87|  Chemistry|\n|        1|        10|       Sonia|  Lucknow|   89|       Math|\n+---------+----------+------------+---------+-----+-----------+\n\n"
     ]
    }
   ],
   "source": [
    "#Left Outer Join \n",
    "left_outer_joined_df = students_df.join(scores_df, \"student_id\", \"left_outer\").join(courses_df, \"course_id\", \"left_outer\")\n",
    "print(\"\\nLeft Outer Join Result:\")\n",
    "left_outer_joined_df.show()\n"
   ]
  },
  {
   "cell_type": "code",
   "execution_count": 0,
   "metadata": {
    "application/vnd.databricks.v1+cell": {
     "cellMetadata": {
      "byteLimit": 2048000,
      "rowLimit": 10000
     },
     "inputWidgets": {},
     "nuid": "e4362837-03f9-4d3f-a3ab-fdbc28baf07d",
     "showTitle": false,
     "title": ""
    }
   },
   "outputs": [
    {
     "output_type": "stream",
     "name": "stdout",
     "output_type": "stream",
     "text": [
      "\nRight Outer Join Result:\n+---------+----------+------------+---------+-----+----------------+\n|course_id|student_id|student_name|     city|score|     course_name|\n+---------+----------+------------+---------+-----+----------------+\n|        1|        10|       Sonia|  Lucknow|   89|            Math|\n|        1|         7|       Vikas|     Pune|   75|            Math|\n|        1|         4|       Anita|  Kolkata|   88|            Math|\n|        1|         1|        Ravi|   Mumbai|   90|            Math|\n|        2|         8|       Pooja|Ahmedabad|   80|         Physics|\n|        2|         5|         Raj|  Chennai|   78|         Physics|\n|        2|         2|       Priya|    Delhi|   85|         Physics|\n|        3|         9|       Kumar|   Jaipur|   87|       Chemistry|\n|        3|         6|       Divya|Hyderabad|   95|       Chemistry|\n|        3|         3|      Suresh|Bangalore|   92|       Chemistry|\n|        4|      NULL|        NULL|     NULL| NULL|         History|\n|        5|      NULL|        NULL|     NULL| NULL|       Geography|\n|        6|      NULL|        NULL|     NULL| NULL|Computer Science|\n+---------+----------+------------+---------+-----+----------------+\n\n"
     ]
    }
   ],
   "source": [
    "#Right Outer Join\n",
    "right_outer_joined_df = students_df.join(scores_df, \"student_id\", \"right_outer\").join(courses_df, \"course_id\", \"right_outer\")\n",
    "print(\"\\nRight Outer Join Result:\")\n",
    "right_outer_joined_df.show()\n"
   ]
  },
  {
   "cell_type": "code",
   "execution_count": 0,
   "metadata": {
    "application/vnd.databricks.v1+cell": {
     "cellMetadata": {
      "byteLimit": 2048000,
      "rowLimit": 10000
     },
     "inputWidgets": {},
     "nuid": "a37bd7b5-7f4c-40fa-8c00-dd2f1c9a7213",
     "showTitle": false,
     "title": ""
    }
   },
   "outputs": [
    {
     "output_type": "stream",
     "name": "stdout",
     "output_type": "stream",
     "text": [
      "\nFull Outer Join Result:\n+---------+----------+------------+---------+-----+----------------+\n|course_id|student_id|student_name|     city|score|     course_name|\n+---------+----------+------------+---------+-----+----------------+\n|        1|         1|        Ravi|   Mumbai|   90|            Math|\n|        1|         4|       Anita|  Kolkata|   88|            Math|\n|        1|         7|       Vikas|     Pune|   75|            Math|\n|        1|        10|       Sonia|  Lucknow|   89|            Math|\n|        2|         2|       Priya|    Delhi|   85|         Physics|\n|        2|         5|         Raj|  Chennai|   78|         Physics|\n|        2|         8|       Pooja|Ahmedabad|   80|         Physics|\n|        3|         3|      Suresh|Bangalore|   92|       Chemistry|\n|        3|         6|       Divya|Hyderabad|   95|       Chemistry|\n|        3|         9|       Kumar|   Jaipur|   87|       Chemistry|\n|        4|      NULL|        NULL|     NULL| NULL|         History|\n|        5|      NULL|        NULL|     NULL| NULL|       Geography|\n|        6|      NULL|        NULL|     NULL| NULL|Computer Science|\n+---------+----------+------------+---------+-----+----------------+\n\n"
     ]
    }
   ],
   "source": [
    "#Full Outer Join\n",
    "full_outer_joined_df = students_df.join(scores_df, \"student_id\", \"full_outer\").join(courses_df, \"course_id\", \"full_outer\")\n",
    "print(\"\\nFull Outer Join Result:\")\n",
    "full_outer_joined_df.show()\n"
   ]
  },
  {
   "cell_type": "code",
   "execution_count": 0,
   "metadata": {
    "application/vnd.databricks.v1+cell": {
     "cellMetadata": {
      "byteLimit": 2048000,
      "rowLimit": 10000
     },
     "inputWidgets": {},
     "nuid": "0f8fed7c-303f-4848-899e-8d8931753d79",
     "showTitle": false,
     "title": ""
    }
   },
   "outputs": [
    {
     "output_type": "stream",
     "name": "stdout",
     "output_type": "stream",
     "text": [
      "\nSelf Join Result:\n+----------+------------+---------+------------+---------+\n|student_id|student_name|     city|student_name|     city|\n+----------+------------+---------+------------+---------+\n|         1|        Ravi|   Mumbai|        Ravi|   Mumbai|\n|         2|       Priya|    Delhi|       Priya|    Delhi|\n|         3|      Suresh|Bangalore|      Suresh|Bangalore|\n|         4|       Anita|  Kolkata|       Anita|  Kolkata|\n|         5|         Raj|  Chennai|         Raj|  Chennai|\n|         6|       Divya|Hyderabad|       Divya|Hyderabad|\n|         7|       Vikas|     Pune|       Vikas|     Pune|\n|         8|       Pooja|Ahmedabad|       Pooja|Ahmedabad|\n|         9|       Kumar|   Jaipur|       Kumar|   Jaipur|\n|        10|       Sonia|  Lucknow|       Sonia|  Lucknow|\n+----------+------------+---------+------------+---------+\n\n"
     ]
    }
   ],
   "source": [
    "# Perform Self Join\n",
    "self_joined_df = students_df.alias(\"df1\").join(students_df.alias(\"df2\"), \"student_id\", \"inner\")\n",
    "print(\"\\nSelf Join Result:\")\n",
    "self_joined_df.show()"
   ]
  },
  {
   "cell_type": "code",
   "execution_count": 0,
   "metadata": {
    "application/vnd.databricks.v1+cell": {
     "cellMetadata": {
      "byteLimit": 2048000,
      "rowLimit": 10000
     },
     "inputWidgets": {},
     "nuid": "aab67d12-7ac4-43e5-9b9b-f3331714aae5",
     "showTitle": false,
     "title": ""
    }
   },
   "outputs": [
    {
     "output_type": "stream",
     "name": "stdout",
     "output_type": "stream",
     "text": [
      "Original DataFrame:\n+---+-------+---------+-----+\n| id|   name|  subject|score|\n+---+-------+---------+-----+\n|  1|    Sid|     Math|   90|\n|  2|    Ani|  Physics|   85|\n|  3|   Abhi|Chemistry|   92|\n|  4|  Parth|     Math|   88|\n|  5|Ashmita|  Physics|   78|\n+---+-------+---------+-----+\n\n"
     ]
    }
   ],
   "source": [
    "from pyspark.sql import SparkSession\n",
    "from pyspark.sql.functions import col, udf\n",
    "from pyspark.sql.types import IntegerType\n",
    "import pandas as pd\n",
    "\n",
    "spark = SparkSession.builder.appName(\"pyspark_functions\").getOrCreate()\n",
    "\n",
    "data = [\n",
    "    (1, \"Sid\", \"Math\", 90),\n",
    "    (2, \"Ani\", \"Physics\", 85),\n",
    "    (3, \"Abhi\", \"Chemistry\", 92),\n",
    "    (4, \"Parth\", \"Math\", 88),\n",
    "    (5, \"Ashmita\", \"Physics\", 78)\n",
    "]\n",
    "\n",
    "columns = [\"id\", \"name\", \"subject\", \"score\"]\n",
    "df = spark.createDataFrame(data, columns)\n",
    "\n",
    "print(\"Original DataFrame:\")\n",
    "df.show()\n",
    "\n",
    "\n",
    "\n",
    "\n"
   ]
  },
  {
   "cell_type": "code",
   "execution_count": 0,
   "metadata": {
    "application/vnd.databricks.v1+cell": {
     "cellMetadata": {
      "byteLimit": 2048000,
      "rowLimit": 10000
     },
     "inputWidgets": {},
     "nuid": "7128469b-6342-4588-b9f7-f5ed2e80f1e8",
     "showTitle": false,
     "title": ""
    }
   },
   "outputs": [
    {
     "output_type": "stream",
     "name": "stdout",
     "output_type": "stream",
     "text": [
      "\nDataFrame after applying a function:\n+---+-------+---------+-----+--------------+\n| id|   name|  subject|score|adjusted_score|\n+---+-------+---------+-----+--------------+\n|  1|    Sid|     Math|   90|            95|\n|  2|    Ani|  Physics|   85|            90|\n|  3|   Abhi|Chemistry|   92|            97|\n|  4|  Parth|     Math|   88|            93|\n|  5|Ashmita|  Physics|   78|            83|\n+---+-------+---------+-----+--------------+\n\n"
     ]
    }
   ],
   "source": [
    "#Simple Function\n",
    "df = df.withColumn(\"adjusted_score\", col(\"score\") + 5)\n",
    "print(\"\\nDataFrame after applying a function:\")\n",
    "df.show()\n",
    "\n"
   ]
  },
  {
   "cell_type": "code",
   "execution_count": 0,
   "metadata": {
    "application/vnd.databricks.v1+cell": {
     "cellMetadata": {
      "byteLimit": 2048000,
      "rowLimit": 10000
     },
     "inputWidgets": {},
     "nuid": "ead4b3fc-cbd4-4f0e-9392-3e24b77636a2",
     "showTitle": false,
     "title": ""
    }
   },
   "outputs": [
    {
     "output_type": "stream",
     "name": "stdout",
     "output_type": "stream",
     "text": [
      "\nDataFrame after applying a UDF:\n+---+-------+---------+-----+--------------+------------+\n| id|   name|  subject|score|adjusted_score|custom_score|\n+---+-------+---------+-----+--------------+------------+\n|  1|    Sid|     Math|   90|            95|         180|\n|  2|    Ani|  Physics|   85|            90|         170|\n|  3|   Abhi|Chemistry|   92|            97|         184|\n|  4|  Parth|     Math|   88|            93|         176|\n|  5|Ashmita|  Physics|   78|            83|         156|\n+---+-------+---------+-----+--------------+------------+\n\n"
     ]
    }
   ],
   "source": [
    "#Complex function\n",
    "def custom_function(score):\n",
    "    return score * 2\n",
    "\n",
    "udf_custom_function = udf(custom_function, IntegerType())\n",
    "\n",
    "df = df.withColumn(\"custom_score\", udf_custom_function(col(\"score\")))\n",
    "\n",
    "print(\"\\nDataFrame after applying a UDF:\")\n",
    "df.show()\n",
    "\n"
   ]
  },
  {
   "cell_type": "code",
   "execution_count": 0,
   "metadata": {
    "application/vnd.databricks.v1+cell": {
     "cellMetadata": {
      "byteLimit": 2048000,
      "rowLimit": 10000
     },
     "inputWidgets": {},
     "nuid": "2208f44b-564b-4fe0-8d96-4987659cd130",
     "showTitle": false,
     "title": ""
    }
   },
   "outputs": [
    {
     "output_type": "stream",
     "name": "stdout",
     "output_type": "stream",
     "text": [
      "\nPandas DataFrame:\n   id     name    subject  score  adjusted_score  custom_score\n0   1      Sid       Math     90              95           180\n1   2      Ani    Physics     85              90           170\n2   3     Abhi  Chemistry     92              97           184\n3   4    Parth       Math     88              93           176\n4   5  Ashmita    Physics     78              83           156\n"
     ]
    }
   ],
   "source": [
    "# Convert PySpark DataFrame to Pandas DataFrame\n",
    "pandas_df = df.toPandas()\n",
    "\n",
    "print(\"\\nPandas DataFrame:\")\n",
    "print(pandas_df)\n",
    "\n"
   ]
  }
 ],
 "metadata": {
  "application/vnd.databricks.v1+notebook": {
   "dashboards": [],
   "language": "python",
   "notebookMetadata": {
    "pythonIndentUnit": 4
   },
   "notebookName": "PySpark CC",
   "widgets": {}
  }
 },
 "nbformat": 4,
 "nbformat_minor": 0
}
